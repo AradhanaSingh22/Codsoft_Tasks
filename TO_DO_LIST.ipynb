{
  "cells": [
    {
      "cell_type": "markdown",
      "metadata": {
        "id": "view-in-github",
        "colab_type": "text"
      },
      "source": [
        "<a href=\"https://colab.research.google.com/github/AradhanaSingh22/Codsoft_Tasks/blob/Tasks/TO_DO_LIST.ipynb\" target=\"_parent\"><img src=\"https://colab.research.google.com/assets/colab-badge.svg\" alt=\"Open In Colab\"/></a>"
      ]
    },
    {
      "cell_type": "markdown",
      "metadata": {
        "id": "bU5qkbf1W5SY"
      },
      "source": [
        "# ***TASK 1***"
      ]
    },
    {
      "cell_type": "markdown",
      "metadata": {
        "id": "gUuXI9iqW5bA"
      },
      "source": [
        "# ***TO-DO LIST***"
      ]
    },
    {
      "cell_type": "code",
      "execution_count": null,
      "metadata": {
        "colab": {
          "base_uri": "https://localhost:8080/"
        },
        "id": "ekhLlq2UUEKn",
        "outputId": "eb97f668-6e75-424d-e31f-157df4911f05"
      },
      "outputs": [
        {
          "output_type": "stream",
          "name": "stdout",
          "text": [
            "\n",
            "To-Do List:\n",
            "1. Add Task\n",
            "2. Complete Task\n",
            "3. Edit Task\n",
            "4. View Tasks\n",
            "5. Exit\n",
            "Choose an option: 1\n",
            "Enter the task: To buy grocery\n",
            "\n",
            "To-Do List:\n",
            "1. Add Task\n",
            "2. Complete Task\n",
            "3. Edit Task\n",
            "4. View Tasks\n",
            "5. Exit\n",
            "Choose an option: 1\n",
            "Enter the task: To buy a notebook\n",
            "\n",
            "To-Do List:\n",
            "1. Add Task\n",
            "2. Complete Task\n",
            "3. Edit Task\n",
            "4. View Tasks\n",
            "5. Exit\n",
            "Choose an option: 1\n",
            "Enter the task: To complete assignment\n",
            "\n",
            "To-Do List:\n",
            "1. Add Task\n",
            "2. Complete Task\n",
            "3. Edit Task\n",
            "4. View Tasks\n",
            "5. Exit\n",
            "Choose an option: 1\n",
            "Enter the task: To learn a programming language\n",
            "\n",
            "To-Do List:\n",
            "1. Add Task\n",
            "2. Complete Task\n",
            "3. Edit Task\n",
            "4. View Tasks\n",
            "5. Exit\n",
            "Choose an option: 4\n",
            "0. To buy grocery - Not completed\n",
            "1. To buy a notebook - Not completed\n",
            "2. To complete assignment - Not completed\n",
            "3. To learn a programming language - Not completed\n",
            "\n",
            "To-Do List:\n",
            "1. Add Task\n",
            "2. Complete Task\n",
            "3. Edit Task\n",
            "4. View Tasks\n",
            "5. Exit\n",
            "Choose an option: 3\n",
            "Enter the task number to edit: 1\n",
            "Enter the new task: To buy stationary\n",
            "\n",
            "To-Do List:\n",
            "1. Add Task\n",
            "2. Complete Task\n",
            "3. Edit Task\n",
            "4. View Tasks\n",
            "5. Exit\n",
            "Choose an option: 4\n",
            "0. To buy grocery - Not completed\n",
            "1. To buy stationary - Not completed\n",
            "2. To complete assignment - Not completed\n",
            "3. To learn a programming language - Not completed\n",
            "\n",
            "To-Do List:\n",
            "1. Add Task\n",
            "2. Complete Task\n",
            "3. Edit Task\n",
            "4. View Tasks\n",
            "5. Exit\n",
            "Choose an option: 2\n",
            "Enter the task number to mark as completed: 2\n",
            "\n",
            "To-Do List:\n",
            "1. Add Task\n",
            "2. Complete Task\n",
            "3. Edit Task\n",
            "4. View Tasks\n",
            "5. Exit\n",
            "Choose an option: 4\n",
            "0. To buy grocery - Not completed\n",
            "1. To buy stationary - Not completed\n",
            "2. To complete assignment - Completed\n",
            "3. To learn a programming language - Not completed\n",
            "\n",
            "To-Do List:\n",
            "1. Add Task\n",
            "2. Complete Task\n",
            "3. Edit Task\n",
            "4. View Tasks\n",
            "5. Exit\n",
            "Choose an option: 5\n",
            "Exiting To-Do List. Goodbye!\n"
          ]
        }
      ],
      "source": [
        "tasks = []\n",
        "def add_task(task):\n",
        "    tasks.append({'task': task, 'completed': False})\n",
        "\n",
        "def complete_task(task_number):\n",
        "    if 0 <= task_number < len(tasks):\n",
        "        tasks[task_number]['completed'] = True\n",
        "    else:\n",
        "        print(\"Invalid task number\")\n",
        "\n",
        "def edit_task(task_number, new_task):\n",
        "    if 0 <= task_number < len(tasks):\n",
        "        tasks[task_number]['task'] = new_task\n",
        "    else:\n",
        "        print(\"Invalid task number\")\n",
        "\n",
        "def view_tasks():\n",
        "    if not tasks:\n",
        "        print(\"No tasks in the to-do list\")\n",
        "        return\n",
        "\n",
        "    for i, task in enumerate(tasks):\n",
        "        status = \"Completed\" if task['completed'] else \"Not completed\"\n",
        "        print(f\"{i}. {task['task']} - {status}\")\n",
        "\n",
        "while True:\n",
        "    print(\"\\nTo-Do List:\")\n",
        "    print(\"1. Add Task\")\n",
        "    print(\"2. Complete Task\")\n",
        "    print(\"3. Edit Task\")\n",
        "    print(\"4. View Tasks\")\n",
        "    print(\"5. Exit\")\n",
        "\n",
        "    choice = input(\"Choose an option: \")\n",
        "\n",
        "    if choice == '1':\n",
        "        task = input(\"Enter the task: \")\n",
        "        add_task(task)\n",
        "    elif choice == '2':\n",
        "        task_number = int(input(\"Enter the task number to mark as completed: \"))\n",
        "        complete_task(task_number)\n",
        "    elif choice == '3':\n",
        "        task_number = int(input(\"Enter the task number to edit: \"))\n",
        "        new_task = input(\"Enter the new task: \")\n",
        "        edit_task(task_number, new_task)\n",
        "    elif choice == '4':\n",
        "        view_tasks()\n",
        "    elif choice == '5':\n",
        "        print(\"Exiting To-Do List. Goodbye!\")\n",
        "        break\n",
        "    else:\n",
        "        print(\"Invalid choice. Please choose again.\")\n"
      ]
    }
  ],
  "metadata": {
    "colab": {
      "provenance": [],
      "authorship_tag": "ABX9TyMv9IM6bvvHVZ/iF+DxQQJj",
      "include_colab_link": true
    },
    "kernelspec": {
      "display_name": "Python 3",
      "name": "python3"
    },
    "language_info": {
      "name": "python"
    }
  },
  "nbformat": 4,
  "nbformat_minor": 0
}