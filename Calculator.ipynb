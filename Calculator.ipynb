{
  "nbformat": 4,
  "nbformat_minor": 0,
  "metadata": {
    "colab": {
      "provenance": [],
      "authorship_tag": "ABX9TyPqlp5lXOYLfUTt24zbVK95",
      "include_colab_link": true
    },
    "kernelspec": {
      "name": "python3",
      "display_name": "Python 3"
    },
    "language_info": {
      "name": "python"
    }
  },
  "cells": [
    {
      "cell_type": "markdown",
      "metadata": {
        "id": "view-in-github",
        "colab_type": "text"
      },
      "source": [
        "<a href=\"https://colab.research.google.com/github/AradhanaSingh22/Codsoft_Tasks/blob/Tasks/Calculator.ipynb\" target=\"_parent\"><img src=\"https://colab.research.google.com/assets/colab-badge.svg\" alt=\"Open In Colab\"/></a>"
      ]
    },
    {
      "cell_type": "markdown",
      "source": [
        "# ***TASK 2***"
      ],
      "metadata": {
        "id": "8JfDJEhk5D15"
      }
    },
    {
      "cell_type": "markdown",
      "source": [
        "# ***CALCULATOR***"
      ],
      "metadata": {
        "id": "6qUr9TQ14Pi4"
      }
    },
    {
      "cell_type": "code",
      "source": [
        "def calculate(a, b, operation):\n",
        "    if operation == 1:\n",
        "        return a + b\n",
        "    elif operation == 2:\n",
        "        return a - b\n",
        "    elif operation == 3:\n",
        "        return a * b\n",
        "    elif operation == 4:\n",
        "        if b != 0:\n",
        "            return a / b\n",
        "        else:\n",
        "            return \"Error: Division by zero\"\n",
        "    elif operation == 5:\n",
        "        return a ** b\n",
        "    elif operation == 6:\n",
        "        if b != 0:\n",
        "            return a // b\n",
        "        else:\n",
        "            return \"Error: Division by zero\"\n",
        "    else:\n",
        "        return \"Invalid operation\"\n",
        "\n",
        "while True:\n",
        "    a = int(input(\"Enter first number\\n\"))\n",
        "    b = int(input(\"Enter second number\\n\"))\n",
        "\n",
        "    print(\"Select an operation to be performed:\\n\")\n",
        "    print(\"Select 1 for addition\")\n",
        "    print(\"Select 2 for Subtraction\")\n",
        "    print(\"Select 3 for Multiplication\")\n",
        "    print(\"Select 4 for Division\")\n",
        "    print(\"Select 5 for Exponentiation\")\n",
        "    print(\"Select 6 for Floor Division\")\n",
        "\n",
        "    operation = int(input(\"Enter your choice\\n\"))\n",
        "\n",
        "    result = calculate(a, b, operation)\n",
        "    print(\"Result:\", result)\n",
        "\n",
        "    print(\"\\nSelect 7 to perform another operation\")\n",
        "    print(\"Select 0 to stop\")\n",
        "    next_step = int(input(\"Enter your choice\\n\"))\n",
        "\n",
        "    if next_step == 0:\n",
        "        print(\"Stopping the calculator. Goodbye!\")\n",
        "        break\n",
        "    elif next_step == 7:\n",
        "        continue\n",
        "    else:\n",
        "        print(\"Invalid choice. Stopping the calculator. Goodbye!\")\n",
        "        break\n"
      ],
      "metadata": {
        "id": "fQtq_GsG2nLt",
        "colab": {
          "base_uri": "https://localhost:8080/"
        },
        "outputId": "0b2bc94a-cfff-43c4-9206-c3c94adc4da5"
      },
      "execution_count": null,
      "outputs": [
        {
          "output_type": "stream",
          "name": "stdout",
          "text": [
            "Enter first number\n",
            "22\n",
            "Enter second number\n",
            "29\n",
            "Select an operation to be performed:\n",
            "\n",
            "Select 1 for addition\n",
            "Select 2 for Subtraction\n",
            "Select 3 for Multiplication\n",
            "Select 4 for Division\n",
            "Select 5 for Exponentiation\n",
            "Select 6 for Floor Division\n",
            "Enter your choice\n",
            "1\n",
            "Result: 51\n",
            "\n",
            "Select 7 to perform another operation\n",
            "Select 0 to stop\n",
            "Enter your choice\n",
            "7\n",
            "Enter first number\n",
            "5\n",
            "Enter second number\n",
            "2\n",
            "Select an operation to be performed:\n",
            "\n",
            "Select 1 for addition\n",
            "Select 2 for Subtraction\n",
            "Select 3 for Multiplication\n",
            "Select 4 for Division\n",
            "Select 5 for Exponentiation\n",
            "Select 6 for Floor Division\n",
            "Enter your choice\n",
            "5\n",
            "Result: 25\n",
            "\n",
            "Select 7 to perform another operation\n",
            "Select 0 to stop\n",
            "Enter your choice\n",
            "7\n",
            "Enter first number\n",
            "8\n",
            "Enter second number\n",
            "3\n",
            "Select an operation to be performed:\n",
            "\n",
            "Select 1 for addition\n",
            "Select 2 for Subtraction\n",
            "Select 3 for Multiplication\n",
            "Select 4 for Division\n",
            "Select 5 for Exponentiation\n",
            "Select 6 for Floor Division\n",
            "Enter your choice\n",
            "6\n",
            "Result: 2\n",
            "\n",
            "Select 7 to perform another operation\n",
            "Select 0 to stop\n",
            "Enter your choice\n",
            "0\n",
            "Stopping the calculator. Goodbye!\n"
          ]
        }
      ]
    }
  ]
}