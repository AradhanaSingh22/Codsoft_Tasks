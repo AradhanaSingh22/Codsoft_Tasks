{
  "nbformat": 4,
  "nbformat_minor": 0,
  "metadata": {
    "colab": {
      "provenance": [],
      "authorship_tag": "ABX9TyOhUOX7mpicSWlZHAK+Yjto",
      "include_colab_link": true
    },
    "kernelspec": {
      "name": "python3",
      "display_name": "Python 3"
    },
    "language_info": {
      "name": "python"
    }
  },
  "cells": [
    {
      "cell_type": "markdown",
      "metadata": {
        "id": "view-in-github",
        "colab_type": "text"
      },
      "source": [
        "<a href=\"https://colab.research.google.com/github/AradhanaSingh22/Codsoft_Tasks/blob/Tasks/Password_Generator.ipynb\" target=\"_parent\"><img src=\"https://colab.research.google.com/assets/colab-badge.svg\" alt=\"Open In Colab\"/></a>"
      ]
    },
    {
      "cell_type": "markdown",
      "source": [
        "# ***TASK 3***"
      ],
      "metadata": {
        "id": "nEq55cwjwGEB"
      }
    },
    {
      "cell_type": "markdown",
      "source": [
        "# ***PASSWORD GENERATOR***"
      ],
      "metadata": {
        "id": "a4qFe_YewGaW"
      }
    },
    {
      "cell_type": "code",
      "source": [
        "import random\n",
        "import string\n",
        "\n",
        "def generate_password(length=12, include_lowercase=True, include_uppercase=True, include_numbers=True, include_special_chars=True):\n",
        "\n",
        "    lower = string.ascii_lowercase if include_lowercase else ''\n",
        "    upper = string.ascii_uppercase if include_uppercase else ''\n",
        "    digits = string.digits if include_numbers else ''\n",
        "    special = string.punctuation if include_special_chars else ''\n",
        "\n",
        "    all_chars = lower + upper + digits + special\n",
        "\n",
        "    if not all_chars:\n",
        "        raise ValueError(\"No characters available to generate password\")\n",
        "\n",
        "    password = ''.join(random.choice(all_chars) for _ in range(length))\n",
        "\n",
        "    while True:\n",
        "        if (include_lowercase and not any(c in lower for c in password)):\n",
        "            password = ''.join(random.choice(all_chars) for _ in range(length))\n",
        "            continue\n",
        "        if (include_uppercase and not any(c in upper for c in password)):\n",
        "            password = ''.join(random.choice(all_chars) for _ in range(length))\n",
        "            continue\n",
        "        if (include_numbers and not any(c in digits for c in password)):\n",
        "            password = ''.join(random.choice(all_chars) for _ in range(length))\n",
        "            continue\n",
        "        if (include_special_chars and not any(c in special for c in password)):\n",
        "            password = ''.join(random.choice(all_chars) for _ in range(length))\n",
        "            continue\n",
        "        break\n",
        "\n",
        "    return password\n",
        "\n",
        "if __name__ == \"__main__\":\n",
        "    while True:\n",
        "        # Get user input\n",
        "        length = int(input(\"Enter the desired password length: \"))\n",
        "        include_lowercase = input(\"Include lowercase letters? (y/n): \").lower() == 'y'\n",
        "        include_uppercase = input(\"Include uppercase letters? (y/n): \").lower() == 'y'\n",
        "        include_numbers = input(\"Include numbers? (y/n): \").lower() == 'y'\n",
        "        include_special_chars = input(\"Include special characters? (y/n): \").lower() == 'y'\n",
        "\n",
        "        # Generate and display password\n",
        "        password = generate_password(length, include_lowercase, include_uppercase, include_numbers, include_special_chars)\n",
        "        print(\"Generated password:\", password)\n",
        "        print()  # Leave one line blank\n",
        "\n",
        "        # Ask if user wants to generate another password\n",
        "        print(\"Do you want to generate another password?\")\n",
        "        another = input(\"Enter 1 for Yes, 0 for No: \")\n",
        "        if another != '1':\n",
        "            print(\"Closing password generator.\")\n",
        "            break\n"
      ],
      "metadata": {
        "id": "oZaGy5KbqyXP",
        "colab": {
          "base_uri": "https://localhost:8080/"
        },
        "outputId": "6ed08468-7bb5-4cc6-f4f9-2133e2a36d80"
      },
      "execution_count": null,
      "outputs": [
        {
          "output_type": "stream",
          "name": "stdout",
          "text": [
            "Enter the desired password length: 7\n",
            "Include lowercase letters? (y/n): y\n",
            "Include uppercase letters? (y/n): y\n",
            "Include numbers? (y/n): y\n",
            "Include special characters? (y/n): y\n",
            "Generated password: 0Q=<0vT\n",
            "\n",
            "Do you want to generate another password?\n",
            "Enter 1 for Yes, 0 for No: 1\n",
            "Enter the desired password length: 5\n",
            "Include lowercase letters? (y/n): y\n",
            "Include uppercase letters? (y/n): y\n",
            "Include numbers? (y/n): n\n",
            "Include special characters? (y/n): y\n",
            "Generated password: U~r{*\n",
            "\n",
            "Do you want to generate another password?\n",
            "Enter 1 for Yes, 0 for No: 0\n",
            "Closing password generator.\n"
          ]
        }
      ]
    }
  ]
}